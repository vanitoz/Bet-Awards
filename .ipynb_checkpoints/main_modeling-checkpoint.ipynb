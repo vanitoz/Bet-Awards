{
 "cells": [
  {
   "cell_type": "code",
   "execution_count": 2,
   "id": "0ee3323c-2472-4c36-aa54-4ae0a341dec3",
   "metadata": {},
   "outputs": [
    {
     "name": "stdout",
     "output_type": "stream",
     "text": [
      "The autoreload extension is already loaded. To reload it, use:\n",
      "  %reload_ext autoreload\n"
     ]
    }
   ],
   "source": [
    "import pandas as pd\n",
    "import numpy as np\n",
    "import sys\n",
    "\n",
    "import matplotlib.pyplot as plt\n",
    "%matplotlib inline\n",
    "import seaborn as sns\n",
    "sns.set(style=\"darkgrid\")\n",
    "import matplotlib.gridspec as gridspec\n",
    "import seabornfig2grid as sfg\n",
    "\n",
    "from sklearn.preprocessing import StandardScaler\n",
    "import pymc3 as pm\n",
    "import arviz as az\n",
    "\n",
    "# pd.set_option('display.max_columns', None)\n",
    "from utils import *\n",
    "\n",
    "%load_ext autoreload\n",
    "%autoreload 2\n",
    "\n",
    "import warnings\n",
    "warnings.filterwarnings(\"ignore\")"
   ]
  },
  {
   "cell_type": "code",
   "execution_count": 3,
   "id": "a7b8697c-19bb-4c23-a05a-3f2bbdaf7794",
   "metadata": {},
   "outputs": [
    {
     "data": {
      "text/html": [
       "<div>\n",
       "<style scoped>\n",
       "    .dataframe tbody tr th:only-of-type {\n",
       "        vertical-align: middle;\n",
       "    }\n",
       "\n",
       "    .dataframe tbody tr th {\n",
       "        vertical-align: top;\n",
       "    }\n",
       "\n",
       "    .dataframe thead th {\n",
       "        text-align: right;\n",
       "    }\n",
       "</style>\n",
       "<table border=\"1\" class=\"dataframe\">\n",
       "  <thead>\n",
       "    <tr style=\"text-align: right;\">\n",
       "      <th></th>\n",
       "      <th>cplx_imp_i</th>\n",
       "      <th>smsn_imp_i</th>\n",
       "      <th>spot_imp_i</th>\n",
       "      <th>vzio_imp_i</th>\n",
       "      <th>tw_imp_i</th>\n",
       "      <th>fb_imp_i</th>\n",
       "      <th>yt_imp_i</th>\n",
       "      <th>tv_exp_i</th>\n",
       "      <th>tune_in_i</th>\n",
       "    </tr>\n",
       "  </thead>\n",
       "  <tbody>\n",
       "    <tr>\n",
       "      <th>0</th>\n",
       "      <td>0.008422</td>\n",
       "      <td>0.015025</td>\n",
       "      <td>0.212211</td>\n",
       "      <td>0.013772</td>\n",
       "      <td>0.348791</td>\n",
       "      <td>0.023189</td>\n",
       "      <td>0.119566</td>\n",
       "      <td>0.005713</td>\n",
       "      <td>0.050437</td>\n",
       "    </tr>\n",
       "    <tr>\n",
       "      <th>1</th>\n",
       "      <td>0.016431</td>\n",
       "      <td>0.036270</td>\n",
       "      <td>0.225445</td>\n",
       "      <td>0.007491</td>\n",
       "      <td>0.369489</td>\n",
       "      <td>0.046153</td>\n",
       "      <td>0.184742</td>\n",
       "      <td>0.010343</td>\n",
       "      <td>0.097058</td>\n",
       "    </tr>\n",
       "    <tr>\n",
       "      <th>2</th>\n",
       "      <td>0.006553</td>\n",
       "      <td>0.015509</td>\n",
       "      <td>0.178028</td>\n",
       "      <td>0.011686</td>\n",
       "      <td>0.344432</td>\n",
       "      <td>0.037104</td>\n",
       "      <td>0.141722</td>\n",
       "      <td>0.008395</td>\n",
       "      <td>0.132308</td>\n",
       "    </tr>\n",
       "    <tr>\n",
       "      <th>3</th>\n",
       "      <td>0.010626</td>\n",
       "      <td>0.017485</td>\n",
       "      <td>0.119478</td>\n",
       "      <td>0.013206</td>\n",
       "      <td>0.353738</td>\n",
       "      <td>0.095669</td>\n",
       "      <td>0.236077</td>\n",
       "      <td>0.022665</td>\n",
       "      <td>0.223991</td>\n",
       "    </tr>\n",
       "    <tr>\n",
       "      <th>4</th>\n",
       "      <td>0.016560</td>\n",
       "      <td>0.025442</td>\n",
       "      <td>0.204707</td>\n",
       "      <td>0.010759</td>\n",
       "      <td>0.370823</td>\n",
       "      <td>0.046618</td>\n",
       "      <td>0.321395</td>\n",
       "      <td>0.015143</td>\n",
       "      <td>0.130586</td>\n",
       "    </tr>\n",
       "  </tbody>\n",
       "</table>\n",
       "</div>"
      ],
      "text/plain": [
       "   cplx_imp_i  smsn_imp_i  spot_imp_i  vzio_imp_i  tw_imp_i  fb_imp_i  \\\n",
       "0    0.008422    0.015025    0.212211    0.013772  0.348791  0.023189   \n",
       "1    0.016431    0.036270    0.225445    0.007491  0.369489  0.046153   \n",
       "2    0.006553    0.015509    0.178028    0.011686  0.344432  0.037104   \n",
       "3    0.010626    0.017485    0.119478    0.013206  0.353738  0.095669   \n",
       "4    0.016560    0.025442    0.204707    0.010759  0.370823  0.046618   \n",
       "\n",
       "   yt_imp_i  tv_exp_i  tune_in_i  \n",
       "0  0.119566  0.005713   0.050437  \n",
       "1  0.184742  0.010343   0.097058  \n",
       "2  0.141722  0.008395   0.132308  \n",
       "3  0.236077  0.022665   0.223991  \n",
       "4  0.321395  0.015143   0.130586  "
      ]
     },
     "execution_count": 3,
     "metadata": {},
     "output_type": "execute_result"
    }
   ],
   "source": [
    "data = pd.read_excel(r'x:\\CAO\\Team\\Data Science\\performance_link\\Bet_Awards\\data\\bet_awards_modfile_FINAL_08.23.2021.xlsx')\n",
    "\n",
    "# dma_code column assigned to region and can be dropped\n",
    "data = data.drop(columns=['dma_code'])\n",
    "data.head()"
   ]
  },
  {
   "cell_type": "code",
   "execution_count": 4,
   "id": "972a5cb3-2349-4029-b054-dce058963bfe",
   "metadata": {},
   "outputs": [],
   "source": [
    "# Scaling predictors only\n",
    "\n",
    "scaller = StandardScaler()\n",
    "data_scaled = pd.DataFrame(scaller.fit_transform(data.iloc[:,:-1]), columns= data.columns[:-1])\n",
    "data_scaled['tune_in_i'] = data['tune_in_i']"
   ]
  },
  {
   "cell_type": "code",
   "execution_count": 5,
   "id": "0e828a1f-42dc-4b08-a8cc-0985d37c9cf4",
   "metadata": {},
   "outputs": [],
   "source": [
    "# Scaling predictors and target as well\n",
    "\n",
    "data_scaled_all = pd.DataFrame(scaller.fit_transform(data), columns= data.columns)"
   ]
  },
  {
   "cell_type": "markdown",
   "id": "32f1437e-9450-4696-9eae-955b1abf805d",
   "metadata": {},
   "source": [
    "### Trainin 3 different models with different data sets (Original, Scaled only features, Scaled All )"
   ]
  },
  {
   "cell_type": "code",
   "execution_count": 19,
   "id": "e9c61484-1a81-4688-b535-b3a9ef938d1b",
   "metadata": {},
   "outputs": [],
   "source": [
    "# naming each df\n",
    "\n",
    "data.name = 'data'\n",
    "data_scaled.name = 'data_scaled'\n",
    "data_scaled_all.name = 'data_scaled_all'\n",
    "\n",
    "data_sets = [data, data_scaled, data_scaled_all]"
   ]
  },
  {
   "cell_type": "code",
   "execution_count": 21,
   "id": "1fb0c378-5a18-4103-8978-9afe48d99348",
   "metadata": {},
   "outputs": [
    {
     "name": "stderr",
     "output_type": "stream",
     "text": [
      "Auto-assigning NUTS sampler...\n",
      "Initializing NUTS using jitter+adapt_diag...\n",
      "Multiprocess sampling (4 chains in 2 jobs)\n",
      "NUTS: [sd, tv_exp_i, yt_imp_i, fb_imp_i, tw_imp_i, vzio_imp_i, spot_imp_i, smsn_imp_i, cplx_imp_i, Intercept]\n"
     ]
    },
    {
     "data": {
      "text/html": [
       "\n",
       "    <div>\n",
       "        <style>\n",
       "            /* Turns off some styling */\n",
       "            progress {\n",
       "                /* gets rid of default border in Firefox and Opera. */\n",
       "                border: none;\n",
       "                /* Needs to be in here for Safari polyfill so background images work as expected. */\n",
       "                background-size: auto;\n",
       "            }\n",
       "            .progress-bar-interrupted, .progress-bar-interrupted::-webkit-progress-bar {\n",
       "                background: #F44336;\n",
       "            }\n",
       "        </style>\n",
       "      <progress value='8000' class='' max='8000' style='width:300px; height:20px; vertical-align: middle;'></progress>\n",
       "      100.00% [8000/8000 05:09<00:00 Sampling 4 chains, 0 divergences]\n",
       "    </div>\n",
       "    "
      ],
      "text/plain": [
       "<IPython.core.display.HTML object>"
      ]
     },
     "metadata": {},
     "output_type": "display_data"
    },
    {
     "name": "stderr",
     "output_type": "stream",
     "text": [
      "Sampling 4 chains for 1_000 tune and 1_000 draw iterations (4_000 + 4_000 draws total) took 354 seconds.\n",
      "Auto-assigning NUTS sampler...\n",
      "Initializing NUTS using jitter+adapt_diag...\n",
      "Multiprocess sampling (4 chains in 2 jobs)\n",
      "NUTS: [sd, tv_exp_i, yt_imp_i, fb_imp_i, tw_imp_i, vzio_imp_i, spot_imp_i, smsn_imp_i, cplx_imp_i, Intercept]\n"
     ]
    },
    {
     "data": {
      "text/html": [
       "\n",
       "    <div>\n",
       "        <style>\n",
       "            /* Turns off some styling */\n",
       "            progress {\n",
       "                /* gets rid of default border in Firefox and Opera. */\n",
       "                border: none;\n",
       "                /* Needs to be in here for Safari polyfill so background images work as expected. */\n",
       "                background-size: auto;\n",
       "            }\n",
       "            .progress-bar-interrupted, .progress-bar-interrupted::-webkit-progress-bar {\n",
       "                background: #F44336;\n",
       "            }\n",
       "        </style>\n",
       "      <progress value='8000' class='' max='8000' style='width:300px; height:20px; vertical-align: middle;'></progress>\n",
       "      100.00% [8000/8000 00:39<00:00 Sampling 4 chains, 0 divergences]\n",
       "    </div>\n",
       "    "
      ],
      "text/plain": [
       "<IPython.core.display.HTML object>"
      ]
     },
     "metadata": {},
     "output_type": "display_data"
    },
    {
     "name": "stderr",
     "output_type": "stream",
     "text": [
      "Sampling 4 chains for 1_000 tune and 1_000 draw iterations (4_000 + 4_000 draws total) took 87 seconds.\n",
      "Auto-assigning NUTS sampler...\n",
      "Initializing NUTS using jitter+adapt_diag...\n",
      "Multiprocess sampling (4 chains in 2 jobs)\n",
      "NUTS: [sd, tv_exp_i, yt_imp_i, fb_imp_i, tw_imp_i, vzio_imp_i, spot_imp_i, smsn_imp_i, cplx_imp_i, Intercept]\n"
     ]
    },
    {
     "data": {
      "text/html": [
       "\n",
       "    <div>\n",
       "        <style>\n",
       "            /* Turns off some styling */\n",
       "            progress {\n",
       "                /* gets rid of default border in Firefox and Opera. */\n",
       "                border: none;\n",
       "                /* Needs to be in here for Safari polyfill so background images work as expected. */\n",
       "                background-size: auto;\n",
       "            }\n",
       "            .progress-bar-interrupted, .progress-bar-interrupted::-webkit-progress-bar {\n",
       "                background: #F44336;\n",
       "            }\n",
       "        </style>\n",
       "      <progress value='8000' class='' max='8000' style='width:300px; height:20px; vertical-align: middle;'></progress>\n",
       "      100.00% [8000/8000 00:35<00:00 Sampling 4 chains, 0 divergences]\n",
       "    </div>\n",
       "    "
      ],
      "text/plain": [
       "<IPython.core.display.HTML object>"
      ]
     },
     "metadata": {},
     "output_type": "display_data"
    },
    {
     "name": "stderr",
     "output_type": "stream",
     "text": [
      "Sampling 4 chains for 1_000 tune and 1_000 draw iterations (4_000 + 4_000 draws total) took 87 seconds.\n"
     ]
    }
   ],
   "source": [
    "individual_traces = {}\n",
    "\n",
    "for df in data_sets:\n",
    "    # Formula for Bayesian Linear Regression\n",
    "    formula = 'tune_in_i ~ ' + ' + '.join(['%s' % variable for variable in df.columns[:-1]])\n",
    "\n",
    "    # Context for the model\n",
    "    with pm.Model() as individual_model:\n",
    "\n",
    "        # The prior for the model parameters will be a normal distribution\n",
    "        family = pm.glm.families.Normal()\n",
    "\n",
    "        # Creating the model requires a formula and data (and optionally a family)\n",
    "        tune_in_i  = pm.GLM.from_formula(formula, data = df, family = family)\n",
    "\n",
    "        # Perform Markov Chain Monte Carlo sampling\n",
    "        individual_trace = pm.sample(chains = 4, target_accept = 0.9)\n",
    "        \n",
    "    individual_traces[df.name] = individual_trace"
   ]
  },
  {
   "cell_type": "code",
   "execution_count": 207,
   "id": "d8bd0b24-60ca-40b0-9550-80b6aa76d165",
   "metadata": {},
   "outputs": [],
   "source": [
    "# model_formula = 'tune_in_i = '\n",
    "# for variable in trace_normal_glm_scaled.varnames[:-2]:\n",
    "#     model_formula += ' %0.3f * %s +' % (np.mean(trace_normal_glm_scaled[variable]), variable)\n",
    "# ' '.join(model_formula.split(' ')[:-1])"
   ]
  },
  {
   "cell_type": "code",
   "execution_count": 22,
   "id": "330d9495-7b29-4658-9e63-7e465f864543",
   "metadata": {},
   "outputs": [
    {
     "data": {
      "text/plain": [
       "{'data': <MultiTrace: 4 chains, 1000 iterations, 11 variables>,\n",
       " 'data_scaled': <MultiTrace: 4 chains, 1000 iterations, 11 variables>,\n",
       " 'data_scaled_all': <MultiTrace: 4 chains, 1000 iterations, 11 variables>}"
      ]
     },
     "execution_count": 22,
     "metadata": {},
     "output_type": "execute_result"
    }
   ],
   "source": [
    "individual_traces"
   ]
  },
  {
   "cell_type": "code",
   "execution_count": 23,
   "id": "cba170d6-5acd-4e34-bc59-9728a9040840",
   "metadata": {},
   "outputs": [
    {
     "name": "stdout",
     "output_type": "stream",
     "text": [
      "Results for trace with data\n",
      "Results for trace with data_scaled\n",
      "Results for trace with data_scaled_all\n"
     ]
    },
    {
     "data": {
      "image/png": "[encoded data removed]",
      "text/plain": [
       "<Figure size 576x288 with 1 Axes>"
      ]
     },
     "metadata": {},
     "output_type": "display_data"
    },
    {
     "data": {
      "image/png": "[encoded data removed]",
      "text/plain": [
       "<Figure size 576x288 with 1 Axes>"
      ]
     },
     "metadata": {},
     "output_type": "display_data"
    },
    {
     "data": {
      "image/png": "[encoded data removed]",
      "text/plain": [
       "<Figure size 576x288 with 1 Axes>"
      ]
     },
     "metadata": {},
     "output_type": "display_data"
    }
   ],
   "source": [
    "for trace in individual_traces:\n",
    "    print('Results for trace with {}'.format(trace))\n",
    "    calculate_contribution(individual_traces[trace], summary=False)"
   ]
  },
  {
   "cell_type": "code",
   "execution_count": 37,
   "id": "98858e0a-6699-4d0e-9a5a-e6adee9a1be5",
   "metadata": {},
   "outputs": [],
   "source": [
    "results_dfs = {}\n",
    "\n",
    "for trace, df in list(zip(individual_traces.values(), data_sets)):\n",
    "    coef_dict = az.summary(trace, var_names = trace.varnames[1:-2])['mean'].to_dict()\n",
    "    contributions = {}\n",
    "    for coef, value in coef_dict.items():\n",
    "        contr = df[coef].sum()*value / df['tune_in_i'].sum()\n",
    "        contributions[coef] = contr\n",
    "    results_contr = pd.DataFrame([contributions], index= ['tune_in_i_'+df.name]).T\n",
    "    results_dfs[df.name] = results_contr"
   ]
  },
  {
   "cell_type": "code",
   "execution_count": 38,
   "id": "cc80ce60-b6c5-46f5-b71b-edc7d037b8c1",
   "metadata": {},
   "outputs": [
    {
     "data": {
      "text/html": [
       "<div>\n",
       "<style scoped>\n",
       "    .dataframe tbody tr th:only-of-type {\n",
       "        vertical-align: middle;\n",
       "    }\n",
       "\n",
       "    .dataframe tbody tr th {\n",
       "        vertical-align: top;\n",
       "    }\n",
       "\n",
       "    .dataframe thead th {\n",
       "        text-align: right;\n",
       "    }\n",
       "</style>\n",
       "<table border=\"1\" class=\"dataframe\">\n",
       "  <thead>\n",
       "    <tr style=\"text-align: right;\">\n",
       "      <th></th>\n",
       "      <th>tune_in_i_data</th>\n",
       "      <th>tune_in_i_data_scaled</th>\n",
       "      <th>tune_in_i_data_scaled_all</th>\n",
       "    </tr>\n",
       "  </thead>\n",
       "  <tbody>\n",
       "    <tr>\n",
       "      <th>cplx_imp_i</th>\n",
       "      <td>0.217986</td>\n",
       "      <td>-4.969326e-18</td>\n",
       "      <td>-0.086000</td>\n",
       "    </tr>\n",
       "    <tr>\n",
       "      <th>smsn_imp_i</th>\n",
       "      <td>-0.065929</td>\n",
       "      <td>5.521473e-18</td>\n",
       "      <td>0.112500</td>\n",
       "    </tr>\n",
       "    <tr>\n",
       "      <th>spot_imp_i</th>\n",
       "      <td>-0.304937</td>\n",
       "      <td>2.723927e-17</td>\n",
       "      <td>0.468667</td>\n",
       "    </tr>\n",
       "    <tr>\n",
       "      <th>vzio_imp_i</th>\n",
       "      <td>0.034718</td>\n",
       "      <td>-4.371166e-18</td>\n",
       "      <td>-0.085104</td>\n",
       "    </tr>\n",
       "    <tr>\n",
       "      <th>tw_imp_i</th>\n",
       "      <td>1.112058</td>\n",
       "      <td>-5.300614e-17</td>\n",
       "      <td>-0.928000</td>\n",
       "    </tr>\n",
       "    <tr>\n",
       "      <th>fb_imp_i</th>\n",
       "      <td>0.062719</td>\n",
       "      <td>3.450921e-20</td>\n",
       "      <td>0.000656</td>\n",
       "    </tr>\n",
       "    <tr>\n",
       "      <th>yt_imp_i</th>\n",
       "      <td>-0.150737</td>\n",
       "      <td>-3.588958e-17</td>\n",
       "      <td>-0.565500</td>\n",
       "    </tr>\n",
       "    <tr>\n",
       "      <th>tv_exp_i</th>\n",
       "      <td>1.003078</td>\n",
       "      <td>3.957056e-17</td>\n",
       "      <td>0.666667</td>\n",
       "    </tr>\n",
       "  </tbody>\n",
       "</table>\n",
       "</div>"
      ],
      "text/plain": [
       "            tune_in_i_data  tune_in_i_data_scaled  tune_in_i_data_scaled_all\n",
       "cplx_imp_i        0.217986          -4.969326e-18                  -0.086000\n",
       "smsn_imp_i       -0.065929           5.521473e-18                   0.112500\n",
       "spot_imp_i       -0.304937           2.723927e-17                   0.468667\n",
       "vzio_imp_i        0.034718          -4.371166e-18                  -0.085104\n",
       "tw_imp_i          1.112058          -5.300614e-17                  -0.928000\n",
       "fb_imp_i          0.062719           3.450921e-20                   0.000656\n",
       "yt_imp_i         -0.150737          -3.588958e-17                  -0.565500\n",
       "tv_exp_i          1.003078           3.957056e-17                   0.666667"
      ]
     },
     "execution_count": 38,
     "metadata": {},
     "output_type": "execute_result"
    }
   ],
   "source": [
    "results_all = pd.concat(list(results_dfs.values()), axis=1)\n",
    "results_all"
   ]
  },
  {
   "cell_type": "code",
   "execution_count": 34,
   "id": "9cb80220-bd28-42ff-bd86-5defad8d4209",
   "metadata": {},
   "outputs": [],
   "source": [
    "# results_all.to_csv(r'x:\\CAO\\Team\\Data Science\\performance_link\\Bet_Awards\\Contribution_to_total_tune_in_i.csv')"
   ]
  },
  {
   "cell_type": "code",
   "execution_count": null,
   "id": "23a00fd2-8cf4-4dbe-93d5-227c26f27e4c",
   "metadata": {},
   "outputs": [],
   "source": []
  }
 ],
 "metadata": {
  "kernelspec": {
   "display_name": "Python 3",
   "language": "python",
   "name": "python3"
  },
  "language_info": {
   "codemirror_mode": {
    "name": "ipython",
    "version": 3
   },
   "file_extension": ".py",
   "mimetype": "text/x-python",
   "name": "python",
   "nbconvert_exporter": "python",
   "pygments_lexer": "ipython3",
   "version": "3.7.3"
  }
 },
 "nbformat": 4,
 "nbformat_minor": 5
}
