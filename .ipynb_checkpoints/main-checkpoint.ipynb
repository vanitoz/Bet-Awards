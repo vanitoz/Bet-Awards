{
 "cells": [
  {
   "cell_type": "code",
   "execution_count": 198,
   "id": "0ee3323c-2472-4c36-aa54-4ae0a341dec3",
   "metadata": {},
   "outputs": [
    {
     "name": "stdout",
     "output_type": "stream",
     "text": [
      "The autoreload extension is already loaded. To reload it, use:\n",
      "  %reload_ext autoreload\n"
     ]
    }
   ],
   "source": [
    "import pandas as pd\n",
    "import numpy as np\n",
    "import sys\n",
    "\n",
    "import matplotlib.pyplot as plt\n",
    "%matplotlib inline\n",
    "import seaborn as sns\n",
    "sns.set(style=\"darkgrid\")\n",
    "import matplotlib.gridspec as gridspec\n",
    "import seabornfig2grid as sfg\n",
    "\n",
    "from sklearn.preprocessing import StandardScaler\n",
    "import pymc3 as pm\n",
    "import arviz as az\n",
    "\n",
    "# pd.set_option('display.max_columns', None)\n",
    "from utils import *\n",
    "\n",
    "%load_ext autoreload\n",
    "%autoreload 2\n",
    "\n",
    "import warnings\n",
    "warnings.filterwarnings(\"ignore\")"
   ]
  },
  {
   "cell_type": "code",
   "execution_count": 199,
   "id": "a7b8697c-19bb-4c23-a05a-3f2bbdaf7794",
   "metadata": {},
   "outputs": [
    {
     "data": {
      "text/html": [
       "<div>\n",
       "<style scoped>\n",
       "    .dataframe tbody tr th:only-of-type {\n",
       "        vertical-align: middle;\n",
       "    }\n",
       "\n",
       "    .dataframe tbody tr th {\n",
       "        vertical-align: top;\n",
       "    }\n",
       "\n",
       "    .dataframe thead th {\n",
       "        text-align: right;\n",
       "    }\n",
       "</style>\n",
       "<table border=\"1\" class=\"dataframe\">\n",
       "  <thead>\n",
       "    <tr style=\"text-align: right;\">\n",
       "      <th></th>\n",
       "      <th>cplx_imp_i</th>\n",
       "      <th>smsn_imp_i</th>\n",
       "      <th>spot_imp_i</th>\n",
       "      <th>vzio_imp_i</th>\n",
       "      <th>tw_imp_i</th>\n",
       "      <th>fb_imp_i</th>\n",
       "      <th>yt_imp_i</th>\n",
       "      <th>tv_exp_i</th>\n",
       "      <th>tune_in_i</th>\n",
       "    </tr>\n",
       "  </thead>\n",
       "  <tbody>\n",
       "    <tr>\n",
       "      <th>0</th>\n",
       "      <td>0.008422</td>\n",
       "      <td>0.015025</td>\n",
       "      <td>0.212211</td>\n",
       "      <td>0.013772</td>\n",
       "      <td>0.348791</td>\n",
       "      <td>0.023189</td>\n",
       "      <td>0.119566</td>\n",
       "      <td>0.005713</td>\n",
       "      <td>0.050437</td>\n",
       "    </tr>\n",
       "    <tr>\n",
       "      <th>1</th>\n",
       "      <td>0.016431</td>\n",
       "      <td>0.036270</td>\n",
       "      <td>0.225445</td>\n",
       "      <td>0.007491</td>\n",
       "      <td>0.369489</td>\n",
       "      <td>0.046153</td>\n",
       "      <td>0.184742</td>\n",
       "      <td>0.010343</td>\n",
       "      <td>0.097058</td>\n",
       "    </tr>\n",
       "    <tr>\n",
       "      <th>2</th>\n",
       "      <td>0.006553</td>\n",
       "      <td>0.015509</td>\n",
       "      <td>0.178028</td>\n",
       "      <td>0.011686</td>\n",
       "      <td>0.344432</td>\n",
       "      <td>0.037104</td>\n",
       "      <td>0.141722</td>\n",
       "      <td>0.008395</td>\n",
       "      <td>0.132308</td>\n",
       "    </tr>\n",
       "    <tr>\n",
       "      <th>3</th>\n",
       "      <td>0.010626</td>\n",
       "      <td>0.017485</td>\n",
       "      <td>0.119478</td>\n",
       "      <td>0.013206</td>\n",
       "      <td>0.353738</td>\n",
       "      <td>0.095669</td>\n",
       "      <td>0.236077</td>\n",
       "      <td>0.022665</td>\n",
       "      <td>0.223991</td>\n",
       "    </tr>\n",
       "    <tr>\n",
       "      <th>4</th>\n",
       "      <td>0.016560</td>\n",
       "      <td>0.025442</td>\n",
       "      <td>0.204707</td>\n",
       "      <td>0.010759</td>\n",
       "      <td>0.370823</td>\n",
       "      <td>0.046618</td>\n",
       "      <td>0.321395</td>\n",
       "      <td>0.015143</td>\n",
       "      <td>0.130586</td>\n",
       "    </tr>\n",
       "  </tbody>\n",
       "</table>\n",
       "</div>"
      ],
      "text/plain": [
       "   cplx_imp_i  smsn_imp_i  spot_imp_i  vzio_imp_i  tw_imp_i  fb_imp_i  \\\n",
       "0    0.008422    0.015025    0.212211    0.013772  0.348791  0.023189   \n",
       "1    0.016431    0.036270    0.225445    0.007491  0.369489  0.046153   \n",
       "2    0.006553    0.015509    0.178028    0.011686  0.344432  0.037104   \n",
       "3    0.010626    0.017485    0.119478    0.013206  0.353738  0.095669   \n",
       "4    0.016560    0.025442    0.204707    0.010759  0.370823  0.046618   \n",
       "\n",
       "   yt_imp_i  tv_exp_i  tune_in_i  \n",
       "0  0.119566  0.005713   0.050437  \n",
       "1  0.184742  0.010343   0.097058  \n",
       "2  0.141722  0.008395   0.132308  \n",
       "3  0.236077  0.022665   0.223991  \n",
       "4  0.321395  0.015143   0.130586  "
      ]
     },
     "execution_count": 199,
     "metadata": {},
     "output_type": "execute_result"
    }
   ],
   "source": [
    "data = pd.read_excel(r'x:\\CAO\\Team\\Data Science\\performance_link\\Bet_Awards\\data\\bet_awards_modfile_FINAL_08.23.2021.xlsx')\n",
    "\n",
    "# dma_code column assigned to region and can be dropped\n",
    "data = data.drop(columns=['dma_code'])\n",
    "data.head()"
   ]
  },
  {
   "cell_type": "code",
   "execution_count": 200,
   "id": "972a5cb3-2349-4029-b054-dce058963bfe",
   "metadata": {},
   "outputs": [],
   "source": [
    "# Scaling predictors only\n",
    "\n",
    "scaller = StandardScaler()\n",
    "data_scaled = pd.DataFrame(scaller.fit_transform(data.iloc[:,:-1]), columns= data.columns[:-1])\n",
    "data_scaled['tune_in_i'] = data['tune_in_i']"
   ]
  },
  {
   "cell_type": "code",
   "execution_count": 201,
   "id": "0e828a1f-42dc-4b08-a8cc-0985d37c9cf4",
   "metadata": {},
   "outputs": [],
   "source": [
    "# Scaling predictors and target as well\n",
    "\n",
    "data_scaled_all = pd.DataFrame(scaller.fit_transform(data), columns= data.columns)"
   ]
  },
  {
   "cell_type": "markdown",
   "id": "32f1437e-9450-4696-9eae-955b1abf805d",
   "metadata": {},
   "source": [
    "### Trainin 3 different models with different data sets"
   ]
  },
  {
   "cell_type": "code",
   "execution_count": 204,
   "id": "e9c61484-1a81-4688-b535-b3a9ef938d1b",
   "metadata": {},
   "outputs": [],
   "source": [
    "# naming each df\n",
    "\n",
    "data.name = 'data'\n",
    "data_scaled.name = 'data_scaled'\n",
    "data_scaled_all.name = 'data_scaled_all'\n",
    "\n",
    "data_sets = [data, data_scaled, data_scaled_all]"
   ]
  },
  {
   "cell_type": "code",
   "execution_count": 206,
   "id": "1fb0c378-5a18-4103-8978-9afe48d99348",
   "metadata": {},
   "outputs": [
    {
     "name": "stderr",
     "output_type": "stream",
     "text": [
      "Auto-assigning NUTS sampler...\n",
      "Initializing NUTS using jitter+adapt_diag...\n",
      "Multiprocess sampling (4 chains in 2 jobs)\n",
      "NUTS: [sd, tv_exp_i, yt_imp_i, fb_imp_i, tw_imp_i, vzio_imp_i, spot_imp_i, smsn_imp_i, cplx_imp_i, Intercept]\n"
     ]
    },
    {
     "data": {
      "text/html": [
       "\n",
       "    <div>\n",
       "        <style>\n",
       "            /* Turns off some styling */\n",
       "            progress {\n",
       "                /* gets rid of default border in Firefox and Opera. */\n",
       "                border: none;\n",
       "                /* Needs to be in here for Safari polyfill so background images work as expected. */\n",
       "                background-size: auto;\n",
       "            }\n",
       "            .progress-bar-interrupted, .progress-bar-interrupted::-webkit-progress-bar {\n",
       "                background: #F44336;\n",
       "            }\n",
       "        </style>\n",
       "      <progress value='8000' class='' max='8000' style='width:300px; height:20px; vertical-align: middle;'></progress>\n",
       "      100.00% [8000/8000 06:25<00:00 Sampling 4 chains, 0 divergences]\n",
       "    </div>\n",
       "    "
      ],
      "text/plain": [
       "<IPython.core.display.HTML object>"
      ]
     },
     "metadata": {},
     "output_type": "display_data"
    },
    {
     "name": "stderr",
     "output_type": "stream",
     "text": [
      "Sampling 4 chains for 1_000 tune and 1_000 draw iterations (4_000 + 4_000 draws total) took 434 seconds.\n",
      "Auto-assigning NUTS sampler...\n",
      "Initializing NUTS using jitter+adapt_diag...\n",
      "Multiprocess sampling (4 chains in 2 jobs)\n",
      "NUTS: [sd, tv_exp_i, yt_imp_i, fb_imp_i, tw_imp_i, vzio_imp_i, spot_imp_i, smsn_imp_i, cplx_imp_i, Intercept]\n"
     ]
    },
    {
     "data": {
      "text/html": [
       "\n",
       "    <div>\n",
       "        <style>\n",
       "            /* Turns off some styling */\n",
       "            progress {\n",
       "                /* gets rid of default border in Firefox and Opera. */\n",
       "                border: none;\n",
       "                /* Needs to be in here for Safari polyfill so background images work as expected. */\n",
       "                background-size: auto;\n",
       "            }\n",
       "            .progress-bar-interrupted, .progress-bar-interrupted::-webkit-progress-bar {\n",
       "                background: #F44336;\n",
       "            }\n",
       "        </style>\n",
       "      <progress value='8000' class='' max='8000' style='width:300px; height:20px; vertical-align: middle;'></progress>\n",
       "      100.00% [8000/8000 00:49<00:00 Sampling 4 chains, 0 divergences]\n",
       "    </div>\n",
       "    "
      ],
      "text/plain": [
       "<IPython.core.display.HTML object>"
      ]
     },
     "metadata": {},
     "output_type": "display_data"
    },
    {
     "name": "stderr",
     "output_type": "stream",
     "text": [
      "Sampling 4 chains for 1_000 tune and 1_000 draw iterations (4_000 + 4_000 draws total) took 105 seconds.\n",
      "Auto-assigning NUTS sampler...\n",
      "Initializing NUTS using jitter+adapt_diag...\n",
      "Multiprocess sampling (4 chains in 2 jobs)\n",
      "NUTS: [sd, tv_exp_i, yt_imp_i, fb_imp_i, tw_imp_i, vzio_imp_i, spot_imp_i, smsn_imp_i, cplx_imp_i, Intercept]\n"
     ]
    },
    {
     "data": {
      "text/html": [
       "\n",
       "    <div>\n",
       "        <style>\n",
       "            /* Turns off some styling */\n",
       "            progress {\n",
       "                /* gets rid of default border in Firefox and Opera. */\n",
       "                border: none;\n",
       "                /* Needs to be in here for Safari polyfill so background images work as expected. */\n",
       "                background-size: auto;\n",
       "            }\n",
       "            .progress-bar-interrupted, .progress-bar-interrupted::-webkit-progress-bar {\n",
       "                background: #F44336;\n",
       "            }\n",
       "        </style>\n",
       "      <progress value='8000' class='' max='8000' style='width:300px; height:20px; vertical-align: middle;'></progress>\n",
       "      100.00% [8000/8000 00:44<00:00 Sampling 4 chains, 0 divergences]\n",
       "    </div>\n",
       "    "
      ],
      "text/plain": [
       "<IPython.core.display.HTML object>"
      ]
     },
     "metadata": {},
     "output_type": "display_data"
    },
    {
     "name": "stderr",
     "output_type": "stream",
     "text": [
      "Sampling 4 chains for 1_000 tune and 1_000 draw iterations (4_000 + 4_000 draws total) took 101 seconds.\n"
     ]
    }
   ],
   "source": [
    "individual_traces = {}\n",
    "\n",
    "for df in data_sets:\n",
    "    # Formula for Bayesian Linear Regression\n",
    "    formula = 'tune_in_i ~ ' + ' + '.join(['%s' % variable for variable in df.columns[:-1]])\n",
    "\n",
    "    # Context for the model\n",
    "    with pm.Model() as individual_model:\n",
    "\n",
    "        # The prior for the model parameters will be a normal distribution\n",
    "        family = pm.glm.families.Normal()\n",
    "\n",
    "        # Creating the model requires a formula and data (and optionally a family)\n",
    "        tune_in_i  = pm.GLM.from_formula(formula, data = df, family = family)\n",
    "\n",
    "        # Perform Markov Chain Monte Carlo sampling\n",
    "        individual_trace = pm.sample(chains = 4, target_accept = 0.9)\n",
    "        \n",
    "    individual_traces[df.name] = individual_trace"
   ]
  },
  {
   "cell_type": "code",
   "execution_count": 207,
   "id": "d8bd0b24-60ca-40b0-9550-80b6aa76d165",
   "metadata": {},
   "outputs": [],
   "source": [
    "# model_formula = 'tune_in_i = '\n",
    "# for variable in trace_normal_glm_scaled.varnames[:-2]:\n",
    "#     model_formula += ' %0.3f * %s +' % (np.mean(trace_normal_glm_scaled[variable]), variable)\n",
    "# ' '.join(model_formula.split(' ')[:-1])"
   ]
  },
  {
   "cell_type": "code",
   "execution_count": 208,
   "id": "330d9495-7b29-4658-9e63-7e465f864543",
   "metadata": {},
   "outputs": [
    {
     "data": {
      "text/plain": [
       "{'data': <MultiTrace: 4 chains, 1000 iterations, 11 variables>,\n",
       " 'data_scaled': <MultiTrace: 4 chains, 1000 iterations, 11 variables>,\n",
       " 'data_scaled_all': <MultiTrace: 4 chains, 1000 iterations, 11 variables>}"
      ]
     },
     "execution_count": 208,
     "metadata": {},
     "output_type": "execute_result"
    }
   ],
   "source": [
    "individual_traces"
   ]
  },
  {
   "cell_type": "code",
   "execution_count": 251,
   "id": "cba170d6-5acd-4e34-bc59-9728a9040840",
   "metadata": {},
   "outputs": [
    {
     "name": "stdout",
     "output_type": "stream",
     "text": [
      "Results for trace with data\n",
      "Results for trace with data_scaled\n",
      "Results for trace with data_scaled_all\n"
     ]
    },
    {
     "data": {
      "image/png": "[encoded data removed]",
      "text/plain": [
       "<Figure size 576x288 with 1 Axes>"
      ]
     },
     "metadata": {},
     "output_type": "display_data"
    },
    {
     "data": {
      "image/png": "[encoded data removed]",
      "text/plain": [
       "<Figure size 576x288 with 1 Axes>"
      ]
     },
     "metadata": {},
     "output_type": "display_data"
    },
    {
     "data": {
      "image/png": "[encoded data removed]",
      "text/plain": [
       "<Figure size 576x288 with 1 Axes>"
      ]
     },
     "metadata": {},
     "output_type": "display_data"
    }
   ],
   "source": [
    "for trace in individual_traces:\n",
    "    print('Results for trace with {}'.format(trace))\n",
    "    calculate_contribution(individual_traces[trace], summary=False)"
   ]
  },
  {
   "cell_type": "code",
   "execution_count": 248,
   "id": "98858e0a-6699-4d0e-9a5a-e6adee9a1be5",
   "metadata": {},
   "outputs": [],
   "source": [
    "results_dfs = {}\n",
    "\n",
    "for trace, df in list(zip(individual_traces.values(), data_sets)):\n",
    "    coef_dict = az.summary(trace, var_names = trace.varnames[1:-2])['mean'].to_dict()\n",
    "    contributions = {}\n",
    "    for coef, value in coef_dict.items():\n",
    "        contr = df[coef].sum()*value / df['tune_in_i'].sum()\n",
    "        contributions[coef] = contr\n",
    "    results_contr = pd.DataFrame([contributions], index= ['tune_in_i_'+df.name]).T\n",
    "    results_dfs[df.name] = results_contr"
   ]
  },
  {
   "cell_type": "code",
   "execution_count": 249,
   "id": "cc80ce60-b6c5-46f5-b71b-edc7d037b8c1",
   "metadata": {},
   "outputs": [
    {
     "data": {
      "text/html": [
       "<div>\n",
       "<style scoped>\n",
       "    .dataframe tbody tr th:only-of-type {\n",
       "        vertical-align: middle;\n",
       "    }\n",
       "\n",
       "    .dataframe tbody tr th {\n",
       "        vertical-align: top;\n",
       "    }\n",
       "\n",
       "    .dataframe thead th {\n",
       "        text-align: right;\n",
       "    }\n",
       "</style>\n",
       "<table border=\"1\" class=\"dataframe\">\n",
       "  <thead>\n",
       "    <tr style=\"text-align: right;\">\n",
       "      <th></th>\n",
       "      <th>tune_in_i_data</th>\n",
       "      <th>tune_in_i_data_scaled</th>\n",
       "      <th>tune_in_i_data_scaled_all</th>\n",
       "    </tr>\n",
       "  </thead>\n",
       "  <tbody>\n",
       "    <tr>\n",
       "      <th>cplx_imp_i</th>\n",
       "      <td>0.216319</td>\n",
       "      <td>-4.969326e-18</td>\n",
       "      <td>-0.086000</td>\n",
       "    </tr>\n",
       "    <tr>\n",
       "      <th>smsn_imp_i</th>\n",
       "      <td>-0.066396</td>\n",
       "      <td>5.521473e-18</td>\n",
       "      <td>0.115000</td>\n",
       "    </tr>\n",
       "    <tr>\n",
       "      <th>spot_imp_i</th>\n",
       "      <td>-0.304937</td>\n",
       "      <td>2.723927e-17</td>\n",
       "      <td>0.465583</td>\n",
       "    </tr>\n",
       "    <tr>\n",
       "      <th>vzio_imp_i</th>\n",
       "      <td>0.035311</td>\n",
       "      <td>-4.371166e-18</td>\n",
       "      <td>-0.085104</td>\n",
       "    </tr>\n",
       "    <tr>\n",
       "      <th>tw_imp_i</th>\n",
       "      <td>1.161909</td>\n",
       "      <td>-5.300614e-17</td>\n",
       "      <td>-0.912000</td>\n",
       "    </tr>\n",
       "    <tr>\n",
       "      <th>fb_imp_i</th>\n",
       "      <td>0.064356</td>\n",
       "      <td>3.450921e-20</td>\n",
       "      <td>0.000656</td>\n",
       "    </tr>\n",
       "    <tr>\n",
       "      <th>yt_imp_i</th>\n",
       "      <td>-0.154553</td>\n",
       "      <td>-3.588958e-17</td>\n",
       "      <td>-0.578500</td>\n",
       "    </tr>\n",
       "    <tr>\n",
       "      <th>tv_exp_i</th>\n",
       "      <td>1.004627</td>\n",
       "      <td>3.957056e-17</td>\n",
       "      <td>0.666667</td>\n",
       "    </tr>\n",
       "  </tbody>\n",
       "</table>\n",
       "</div>"
      ],
      "text/plain": [
       "            tune_in_i_data  tune_in_i_data_scaled  tune_in_i_data_scaled_all\n",
       "cplx_imp_i        0.216319          -4.969326e-18                  -0.086000\n",
       "smsn_imp_i       -0.066396           5.521473e-18                   0.115000\n",
       "spot_imp_i       -0.304937           2.723927e-17                   0.465583\n",
       "vzio_imp_i        0.035311          -4.371166e-18                  -0.085104\n",
       "tw_imp_i          1.161909          -5.300614e-17                  -0.912000\n",
       "fb_imp_i          0.064356           3.450921e-20                   0.000656\n",
       "yt_imp_i         -0.154553          -3.588958e-17                  -0.578500\n",
       "tv_exp_i          1.004627           3.957056e-17                   0.666667"
      ]
     },
     "execution_count": 249,
     "metadata": {},
     "output_type": "execute_result"
    }
   ],
   "source": [
    "pd.concat(list(results_dfs.values()), axis=1)"
   ]
  },
  {
   "cell_type": "code",
   "execution_count": 168,
   "id": "0a40734a-5a87-4702-adec-153cf25d3239",
   "metadata": {},
   "outputs": [
    {
     "data": {
      "text/plain": [
       "{'cplx_imp_i': 0.009,\n",
       " 'smsn_imp_i': -0.002,\n",
       " 'spot_imp_i': -0.008,\n",
       " 'vzio_imp_i': 0.002,\n",
       " 'tw_imp_i': 0.003,\n",
       " 'fb_imp_i': 0.002,\n",
       " 'yt_imp_i': -0.005,\n",
       " 'tv_exp_i': 0.043}"
      ]
     },
     "execution_count": 168,
     "metadata": {},
     "output_type": "execute_result"
    }
   ],
   "source": [
    "coef_dict = az.summary(trace_normal_glm_scaled, var_names = trace_normal_glm_scaled.varnames[1:-2])['mean'].to_dict()\n",
    "coef_dict"
   ]
  },
  {
   "cell_type": "code",
   "execution_count": 170,
   "id": "e7b9e180-5460-4e00-a444-2eb6c229e68e",
   "metadata": {},
   "outputs": [],
   "source": [
    "contributions = {}\n",
    "\n",
    "for coef, value in coef_dict.items():\n",
    "    contr = data_scaled[coef].sum()*value / data['tune_in_i'].sum()\n",
    "    contributions[coef] = contr"
   ]
  },
  {
   "cell_type": "code",
   "execution_count": 171,
   "id": "f1b8e8c3-2b3a-4b59-b19d-3dd1c7c0b3e4",
   "metadata": {},
   "outputs": [],
   "source": [
    "results_contr = pd.DataFrame([contributions], index= ['tune_in_i']).T"
   ]
  },
  {
   "cell_type": "code",
   "execution_count": 172,
   "id": "79dbd002-cc0f-4f4d-9c67-f2f6a37a75e9",
   "metadata": {},
   "outputs": [
    {
     "data": {
      "text/html": [
       "<div>\n",
       "<style scoped>\n",
       "    .dataframe tbody tr th:only-of-type {\n",
       "        vertical-align: middle;\n",
       "    }\n",
       "\n",
       "    .dataframe tbody tr th {\n",
       "        vertical-align: top;\n",
       "    }\n",
       "\n",
       "    .dataframe thead th {\n",
       "        text-align: right;\n",
       "    }\n",
       "</style>\n",
       "<table border=\"1\" class=\"dataframe\">\n",
       "  <thead>\n",
       "    <tr style=\"text-align: right;\">\n",
       "      <th></th>\n",
       "      <th>tune_in_i</th>\n",
       "    </tr>\n",
       "  </thead>\n",
       "  <tbody>\n",
       "    <tr>\n",
       "      <th>cplx_imp_i</th>\n",
       "      <td>-4.969326e-18</td>\n",
       "    </tr>\n",
       "    <tr>\n",
       "      <th>smsn_imp_i</th>\n",
       "      <td>5.521473e-18</td>\n",
       "    </tr>\n",
       "    <tr>\n",
       "      <th>spot_imp_i</th>\n",
       "      <td>2.723927e-17</td>\n",
       "    </tr>\n",
       "    <tr>\n",
       "      <th>vzio_imp_i</th>\n",
       "      <td>-4.371166e-18</td>\n",
       "    </tr>\n",
       "    <tr>\n",
       "      <th>tw_imp_i</th>\n",
       "      <td>-5.300614e-17</td>\n",
       "    </tr>\n",
       "    <tr>\n",
       "      <th>fb_imp_i</th>\n",
       "      <td>3.450921e-20</td>\n",
       "    </tr>\n",
       "    <tr>\n",
       "      <th>yt_imp_i</th>\n",
       "      <td>-3.588958e-17</td>\n",
       "    </tr>\n",
       "    <tr>\n",
       "      <th>tv_exp_i</th>\n",
       "      <td>3.957056e-17</td>\n",
       "    </tr>\n",
       "  </tbody>\n",
       "</table>\n",
       "</div>"
      ],
      "text/plain": [
       "               tune_in_i\n",
       "cplx_imp_i -4.969326e-18\n",
       "smsn_imp_i  5.521473e-18\n",
       "spot_imp_i  2.723927e-17\n",
       "vzio_imp_i -4.371166e-18\n",
       "tw_imp_i   -5.300614e-17\n",
       "fb_imp_i    3.450921e-20\n",
       "yt_imp_i   -3.588958e-17\n",
       "tv_exp_i    3.957056e-17"
      ]
     },
     "execution_count": 172,
     "metadata": {},
     "output_type": "execute_result"
    }
   ],
   "source": [
    "results_contr"
   ]
  },
  {
   "cell_type": "code",
   "execution_count": 173,
   "id": "6bd636a0-0f76-4d04-a5b7-3020af2ab379",
   "metadata": {},
   "outputs": [],
   "source": [
    "# Scaling All Data\n",
    "\n",
    "scaller = StandardScaler()\n",
    "data_scaled_all = pd.DataFrame(scaller.fit_transform(data), columns= data.columns)\n",
    "#data_scaled['tune_in_i'] = data['tune_in_i']"
   ]
  },
  {
   "cell_type": "code",
   "execution_count": 174,
   "id": "80907fc2-75e9-4d96-9ad0-f3a382250c47",
   "metadata": {},
   "outputs": [
    {
     "name": "stderr",
     "output_type": "stream",
     "text": [
      "Auto-assigning NUTS sampler...\n",
      "Initializing NUTS using jitter+adapt_diag...\n",
      "Multiprocess sampling (4 chains in 2 jobs)\n",
      "NUTS: [sd, tv_exp_i, yt_imp_i, fb_imp_i, tw_imp_i, vzio_imp_i, spot_imp_i, smsn_imp_i, cplx_imp_i, Intercept]\n"
     ]
    },
    {
     "data": {
      "text/html": [
       "\n",
       "    <div>\n",
       "        <style>\n",
       "            /* Turns off some styling */\n",
       "            progress {\n",
       "                /* gets rid of default border in Firefox and Opera. */\n",
       "                border: none;\n",
       "                /* Needs to be in here for Safari polyfill so background images work as expected. */\n",
       "                background-size: auto;\n",
       "            }\n",
       "            .progress-bar-interrupted, .progress-bar-interrupted::-webkit-progress-bar {\n",
       "                background: #F44336;\n",
       "            }\n",
       "        </style>\n",
       "      <progress value='8000' class='' max='8000' style='width:300px; height:20px; vertical-align: middle;'></progress>\n",
       "      100.00% [8000/8000 00:35<00:00 Sampling 4 chains, 0 divergences]\n",
       "    </div>\n",
       "    "
      ],
      "text/plain": [
       "<IPython.core.display.HTML object>"
      ]
     },
     "metadata": {},
     "output_type": "display_data"
    },
    {
     "name": "stderr",
     "output_type": "stream",
     "text": [
      "Sampling 4 chains for 1_000 tune and 1_000 draw iterations (4_000 + 4_000 draws total) took 84 seconds.\n"
     ]
    }
   ],
   "source": [
    "# Building Model with GLM modeule\n",
    "\n",
    "# Formula for Bayesian Linear Regression\n",
    "formula = 'tune_in_i ~ ' + ' + '.join(['%s' % variable for variable in data.columns[:-1]])\n",
    "\n",
    "# Context for the model\n",
    "with pm.Model() as model_normal_glm_scaled_all:\n",
    "    \n",
    "    # The prior for the model parameters will be a normal distribution\n",
    "    family = pm.glm.families.Normal()\n",
    "    \n",
    "    # Creating the model requires a formula and data (and optionally a family)\n",
    "    tune_in_i  = pm.GLM.from_formula(formula, data = data_scaled_all, family = family)\n",
    "    \n",
    "    # Perform Markov Chain Monte Carlo sampling\n",
    "    trace_normal_glm_scaled_all = pm.sample(chains = 4, target_accept = 0.9)\n",
    "    "
   ]
  },
  {
   "cell_type": "code",
   "execution_count": 176,
   "id": "ce1802d2-289c-44a9-960f-1a9dc14c7daf",
   "metadata": {},
   "outputs": [
    {
     "data": {
      "text/plain": [
       "'tune_in_i =  0.000 * Intercept + 0.172 * cplx_imp_i + -0.045 * smsn_imp_i + -0.152 * spot_imp_i + 0.043 * vzio_imp_i + 0.058 * tw_imp_i + 0.041 * fb_imp_i + -0.090 * yt_imp_i + 0.800 * tv_exp_i'"
      ]
     },
     "execution_count": 176,
     "metadata": {},
     "output_type": "execute_result"
    }
   ],
   "source": [
    "model_formula = 'tune_in_i = '\n",
    "for variable in trace_normal_glm_scaled_all.varnames[:-2]:\n",
    "    model_formula += ' %0.3f * %s +' % (np.mean(trace_normal_glm_scaled_all[variable]), variable)\n",
    "' '.join(model_formula.split(' ')[:-1])"
   ]
  },
  {
   "cell_type": "code",
   "execution_count": 177,
   "id": "e75646aa-6cb7-4f5f-925c-463acae86d27",
   "metadata": {},
   "outputs": [
    {
     "data": {
      "text/html": [
       "<div>\n",
       "<style scoped>\n",
       "    .dataframe tbody tr th:only-of-type {\n",
       "        vertical-align: middle;\n",
       "    }\n",
       "\n",
       "    .dataframe tbody tr th {\n",
       "        vertical-align: top;\n",
       "    }\n",
       "\n",
       "    .dataframe thead th {\n",
       "        text-align: right;\n",
       "    }\n",
       "</style>\n",
       "<table border=\"1\" class=\"dataframe\">\n",
       "  <thead>\n",
       "    <tr style=\"text-align: right;\">\n",
       "      <th></th>\n",
       "      <th>mean</th>\n",
       "      <th>sd</th>\n",
       "      <th>mean2</th>\n",
       "      <th>sd2</th>\n",
       "      <th>mean2*sd2</th>\n",
       "      <th>contribution_pct</th>\n",
       "    </tr>\n",
       "  </thead>\n",
       "  <tbody>\n",
       "    <tr>\n",
       "      <th>cplx_imp_i</th>\n",
       "      <td>0.172</td>\n",
       "      <td>0.057</td>\n",
       "      <td>0.029584</td>\n",
       "      <td>0.003249</td>\n",
       "      <td>0.000096</td>\n",
       "      <td>4.06354</td>\n",
       "    </tr>\n",
       "    <tr>\n",
       "      <th>smsn_imp_i</th>\n",
       "      <td>-0.045</td>\n",
       "      <td>0.038</td>\n",
       "      <td>0.002025</td>\n",
       "      <td>0.001444</td>\n",
       "      <td>0.000003</td>\n",
       "      <td>0.12362</td>\n",
       "    </tr>\n",
       "    <tr>\n",
       "      <th>spot_imp_i</th>\n",
       "      <td>-0.152</td>\n",
       "      <td>0.057</td>\n",
       "      <td>0.023104</td>\n",
       "      <td>0.003249</td>\n",
       "      <td>0.000075</td>\n",
       "      <td>3.17347</td>\n",
       "    </tr>\n",
       "    <tr>\n",
       "      <th>vzio_imp_i</th>\n",
       "      <td>0.043</td>\n",
       "      <td>0.030</td>\n",
       "      <td>0.001849</td>\n",
       "      <td>0.000900</td>\n",
       "      <td>0.000002</td>\n",
       "      <td>0.07035</td>\n",
       "    </tr>\n",
       "    <tr>\n",
       "      <th>tw_imp_i</th>\n",
       "      <td>0.058</td>\n",
       "      <td>0.056</td>\n",
       "      <td>0.003364</td>\n",
       "      <td>0.003136</td>\n",
       "      <td>0.000011</td>\n",
       "      <td>0.44600</td>\n",
       "    </tr>\n",
       "    <tr>\n",
       "      <th>fb_imp_i</th>\n",
       "      <td>0.041</td>\n",
       "      <td>0.050</td>\n",
       "      <td>0.001681</td>\n",
       "      <td>0.002500</td>\n",
       "      <td>0.000004</td>\n",
       "      <td>0.17767</td>\n",
       "    </tr>\n",
       "    <tr>\n",
       "      <th>yt_imp_i</th>\n",
       "      <td>-0.090</td>\n",
       "      <td>0.052</td>\n",
       "      <td>0.008100</td>\n",
       "      <td>0.002704</td>\n",
       "      <td>0.000022</td>\n",
       "      <td>0.92595</td>\n",
       "    </tr>\n",
       "    <tr>\n",
       "      <th>tv_exp_i</th>\n",
       "      <td>0.800</td>\n",
       "      <td>0.058</td>\n",
       "      <td>0.640000</td>\n",
       "      <td>0.003364</td>\n",
       "      <td>0.002153</td>\n",
       "      <td>91.01940</td>\n",
       "    </tr>\n",
       "  </tbody>\n",
       "</table>\n",
       "</div>"
      ],
      "text/plain": [
       "             mean     sd     mean2       sd2  mean2*sd2  contribution_pct\n",
       "cplx_imp_i  0.172  0.057  0.029584  0.003249   0.000096           4.06354\n",
       "smsn_imp_i -0.045  0.038  0.002025  0.001444   0.000003           0.12362\n",
       "spot_imp_i -0.152  0.057  0.023104  0.003249   0.000075           3.17347\n",
       "vzio_imp_i  0.043  0.030  0.001849  0.000900   0.000002           0.07035\n",
       "tw_imp_i    0.058  0.056  0.003364  0.003136   0.000011           0.44600\n",
       "fb_imp_i    0.041  0.050  0.001681  0.002500   0.000004           0.17767\n",
       "yt_imp_i   -0.090  0.052  0.008100  0.002704   0.000022           0.92595\n",
       "tv_exp_i    0.800  0.058  0.640000  0.003364   0.002153          91.01940"
      ]
     },
     "execution_count": 177,
     "metadata": {},
     "output_type": "execute_result"
    },
    {
     "data": {
      "image/png": "[encoded data removed]",
      "text/plain": [
       "<Figure size 576x288 with 1 Axes>"
      ]
     },
     "metadata": {},
     "output_type": "display_data"
    }
   ],
   "source": [
    "calculate_contribution(trace_normal_glm_scaled_all, summary=True)"
   ]
  },
  {
   "cell_type": "code",
   "execution_count": 178,
   "id": "004b52ab-4f48-4966-a7eb-484b276c0c3a",
   "metadata": {},
   "outputs": [],
   "source": [
    "coef_dict_all = az.summary(trace_normal_glm_scaled_all, var_names = trace_normal_glm_scaled_all.varnames[1:-2])['mean'].to_dict()"
   ]
  },
  {
   "cell_type": "code",
   "execution_count": 179,
   "id": "ecc686c5-8c5d-478a-a103-2addfc2888ef",
   "metadata": {},
   "outputs": [
    {
     "data": {
      "text/plain": [
       "{'cplx_imp_i': 0.172,\n",
       " 'smsn_imp_i': -0.045,\n",
       " 'spot_imp_i': -0.152,\n",
       " 'vzio_imp_i': 0.043,\n",
       " 'tw_imp_i': 0.058,\n",
       " 'fb_imp_i': 0.041,\n",
       " 'yt_imp_i': -0.09,\n",
       " 'tv_exp_i': 0.8}"
      ]
     },
     "execution_count": 179,
     "metadata": {},
     "output_type": "execute_result"
    }
   ],
   "source": [
    "coef_dict_all"
   ]
  },
  {
   "cell_type": "code",
   "execution_count": 196,
   "id": "f8738948-38b4-4d9e-be16-510ecdb6b42a",
   "metadata": {},
   "outputs": [],
   "source": [
    "contributions_all = {}\n",
    "\n",
    "for coef, value in coef_dict_all.items():\n",
    "    contr = data_scaled_all[coef].sum()*value / data_scaled_all['tune_in_i'].sum()\n",
    "    contributions_all[coef] = contr\n",
    "\n",
    "results_contr_all = pd.DataFrame([contributions_all], index= ['tune_in_i']).T"
   ]
  },
  {
   "cell_type": "code",
   "execution_count": 197,
   "id": "3a39eb5f-960c-4bca-9675-9d485b19b6b5",
   "metadata": {},
   "outputs": [
    {
     "data": {
      "text/html": [
       "<div>\n",
       "<style scoped>\n",
       "    .dataframe tbody tr th:only-of-type {\n",
       "        vertical-align: middle;\n",
       "    }\n",
       "\n",
       "    .dataframe tbody tr th {\n",
       "        vertical-align: top;\n",
       "    }\n",
       "\n",
       "    .dataframe thead th {\n",
       "        text-align: right;\n",
       "    }\n",
       "</style>\n",
       "<table border=\"1\" class=\"dataframe\">\n",
       "  <thead>\n",
       "    <tr style=\"text-align: right;\">\n",
       "      <th></th>\n",
       "      <th>tune_in_i</th>\n",
       "    </tr>\n",
       "  </thead>\n",
       "  <tbody>\n",
       "    <tr>\n",
       "      <th>cplx_imp_i</th>\n",
       "      <td>-0.086000</td>\n",
       "    </tr>\n",
       "    <tr>\n",
       "      <th>smsn_imp_i</th>\n",
       "      <td>0.112500</td>\n",
       "    </tr>\n",
       "    <tr>\n",
       "      <th>spot_imp_i</th>\n",
       "      <td>0.468667</td>\n",
       "    </tr>\n",
       "    <tr>\n",
       "      <th>vzio_imp_i</th>\n",
       "      <td>-0.085104</td>\n",
       "    </tr>\n",
       "    <tr>\n",
       "      <th>tw_imp_i</th>\n",
       "      <td>-0.928000</td>\n",
       "    </tr>\n",
       "    <tr>\n",
       "      <th>fb_imp_i</th>\n",
       "      <td>0.000641</td>\n",
       "    </tr>\n",
       "    <tr>\n",
       "      <th>yt_imp_i</th>\n",
       "      <td>-0.585000</td>\n",
       "    </tr>\n",
       "    <tr>\n",
       "      <th>tv_exp_i</th>\n",
       "      <td>0.666667</td>\n",
       "    </tr>\n",
       "  </tbody>\n",
       "</table>\n",
       "</div>"
      ],
      "text/plain": [
       "            tune_in_i\n",
       "cplx_imp_i  -0.086000\n",
       "smsn_imp_i   0.112500\n",
       "spot_imp_i   0.468667\n",
       "vzio_imp_i  -0.085104\n",
       "tw_imp_i    -0.928000\n",
       "fb_imp_i     0.000641\n",
       "yt_imp_i    -0.585000\n",
       "tv_exp_i     0.666667"
      ]
     },
     "execution_count": 197,
     "metadata": {},
     "output_type": "execute_result"
    }
   ],
   "source": [
    "results_contr_all"
   ]
  },
  {
   "cell_type": "code",
   "execution_count": 192,
   "id": "ac38f1ad-862a-4c62-8406-f5d9e5ade808",
   "metadata": {},
   "outputs": [
    {
     "data": {
      "text/plain": [
       "-8.6"
      ]
     },
     "execution_count": 192,
     "metadata": {},
     "output_type": "execute_result"
    }
   ],
   "source": [
    "round((data_scaled_all.cplx_imp_i.sum()*0.172/ data_scaled_all['tune_in_i'].sum())*100, 2)"
   ]
  },
  {
   "cell_type": "code",
   "execution_count": 194,
   "id": "e333fc13-a80a-48e6-9459-204b5264ca85",
   "metadata": {},
   "outputs": [
    {
     "data": {
      "text/plain": [
       "-1.978150976356119e-14"
      ]
     },
     "execution_count": 194,
     "metadata": {},
     "output_type": "execute_result"
    }
   ],
   "source": [
    "data_scaled_all.tw_imp_i.sum()*0.058 / "
   ]
  },
  {
   "cell_type": "code",
   "execution_count": 195,
   "id": "c9f7924d-9e98-446c-a271-0de42112ad5c",
   "metadata": {},
   "outputs": [
    {
     "data": {
      "text/plain": [
       "2.1316282072803006e-14"
      ]
     },
     "execution_count": 195,
     "metadata": {},
     "output_type": "execute_result"
    }
   ],
   "source": [
    "data_scaled_all['tune_in_i'].sum()"
   ]
  },
  {
   "cell_type": "code",
   "execution_count": 81,
   "id": "9cb80220-bd28-42ff-bd86-5defad8d4209",
   "metadata": {},
   "outputs": [],
   "source": [
    "#results_contr.to_csv(r'x:\\CAO\\Team\\Data Science\\performance_link\\Bet_Awards\\Contribution_to_total_tune_in_i.csv')"
   ]
  }
 ],
 "metadata": {
  "kernelspec": {
   "display_name": "Python 3",
   "language": "python",
   "name": "python3"
  },
  "language_info": {
   "codemirror_mode": {
    "name": "ipython",
    "version": 3
   },
   "file_extension": ".py",
   "mimetype": "text/x-python",
   "name": "python",
   "nbconvert_exporter": "python",
   "pygments_lexer": "ipython3",
   "version": "3.7.3"
  }
 },
 "nbformat": 4,
 "nbformat_minor": 5
}
