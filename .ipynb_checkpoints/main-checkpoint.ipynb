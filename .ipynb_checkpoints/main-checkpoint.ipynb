{
 "cells": [
  {
   "cell_type": "code",
   "execution_count": 32,
   "id": "0ee3323c-2472-4c36-aa54-4ae0a341dec3",
   "metadata": {},
   "outputs": [
    {
     "name": "stdout",
     "output_type": "stream",
     "text": [
      "The autoreload extension is already loaded. To reload it, use:\n",
      "  %reload_ext autoreload\n"
     ]
    }
   ],
   "source": [
    "import pandas as pd\n",
    "import numpy as np\n",
    "import sys\n",
    "\n",
    "import matplotlib.pyplot as plt\n",
    "%matplotlib inline\n",
    "import seaborn as sns\n",
    "sns.set(style=\"darkgrid\")\n",
    "import matplotlib.gridspec as gridspec\n",
    "import seabornfig2grid as sfg\n",
    "\n",
    "from sklearn.preprocessing import StandardScaler\n",
    "\n",
    "import pymc3 as pm\n",
    "import arviz as az\n",
    "\n",
    "# pd.set_option('display.max_columns', None)\n",
    "\n",
    "from utils import *\n",
    "\n",
    "%load_ext autoreload\n",
    "%autoreload 2\n",
    "\n",
    "import warnings\n",
    "warnings.filterwarnings(\"ignore\")"
   ]
  },
  {
   "cell_type": "code",
   "execution_count": 2,
   "id": "63f3dac3-43bd-4ae0-9491-036ff5db7e48",
   "metadata": {},
   "outputs": [],
   "source": [
    "import scipy.stats as scs\n",
    "from scipy.stats import norm\n",
    "import math\n",
    "from sklearn.model_selection import train_test_split\n",
    "from sklearn.linear_model import LinearRegression\n",
    "from sklearn import metrics\n",
    "\n",
    "from sklearn.preprocessing import StandardScaler\n",
    "from sklearn import linear_model"
   ]
  },
  {
   "cell_type": "code",
   "execution_count": 3,
   "id": "a7b8697c-19bb-4c23-a05a-3f2bbdaf7794",
   "metadata": {},
   "outputs": [
    {
     "name": "stdout",
     "output_type": "stream",
     "text": [
      "0\n"
     ]
    },
    {
     "data": {
      "text/html": [
       "<div>\n",
       "<style scoped>\n",
       "    .dataframe tbody tr th:only-of-type {\n",
       "        vertical-align: middle;\n",
       "    }\n",
       "\n",
       "    .dataframe tbody tr th {\n",
       "        vertical-align: top;\n",
       "    }\n",
       "\n",
       "    .dataframe thead th {\n",
       "        text-align: right;\n",
       "    }\n",
       "</style>\n",
       "<table border=\"1\" class=\"dataframe\">\n",
       "  <thead>\n",
       "    <tr style=\"text-align: right;\">\n",
       "      <th></th>\n",
       "      <th>cplx_imp_i</th>\n",
       "      <th>smsn_imp_i</th>\n",
       "      <th>spot_imp_i</th>\n",
       "      <th>vzio_imp_i</th>\n",
       "      <th>tw_imp_i</th>\n",
       "      <th>fb_imp_i</th>\n",
       "      <th>yt_imp_i</th>\n",
       "      <th>tv_exp_i</th>\n",
       "      <th>tune_in_i</th>\n",
       "    </tr>\n",
       "  </thead>\n",
       "  <tbody>\n",
       "    <tr>\n",
       "      <th>0</th>\n",
       "      <td>0.008422</td>\n",
       "      <td>0.015025</td>\n",
       "      <td>0.212211</td>\n",
       "      <td>0.013772</td>\n",
       "      <td>0.348791</td>\n",
       "      <td>0.023189</td>\n",
       "      <td>0.119566</td>\n",
       "      <td>0.005713</td>\n",
       "      <td>0.050437</td>\n",
       "    </tr>\n",
       "    <tr>\n",
       "      <th>1</th>\n",
       "      <td>0.016431</td>\n",
       "      <td>0.036270</td>\n",
       "      <td>0.225445</td>\n",
       "      <td>0.007491</td>\n",
       "      <td>0.369489</td>\n",
       "      <td>0.046153</td>\n",
       "      <td>0.184742</td>\n",
       "      <td>0.010343</td>\n",
       "      <td>0.097058</td>\n",
       "    </tr>\n",
       "    <tr>\n",
       "      <th>2</th>\n",
       "      <td>0.006553</td>\n",
       "      <td>0.015509</td>\n",
       "      <td>0.178028</td>\n",
       "      <td>0.011686</td>\n",
       "      <td>0.344432</td>\n",
       "      <td>0.037104</td>\n",
       "      <td>0.141722</td>\n",
       "      <td>0.008395</td>\n",
       "      <td>0.132308</td>\n",
       "    </tr>\n",
       "    <tr>\n",
       "      <th>3</th>\n",
       "      <td>0.010626</td>\n",
       "      <td>0.017485</td>\n",
       "      <td>0.119478</td>\n",
       "      <td>0.013206</td>\n",
       "      <td>0.353738</td>\n",
       "      <td>0.095669</td>\n",
       "      <td>0.236077</td>\n",
       "      <td>0.022665</td>\n",
       "      <td>0.223991</td>\n",
       "    </tr>\n",
       "    <tr>\n",
       "      <th>4</th>\n",
       "      <td>0.016560</td>\n",
       "      <td>0.025442</td>\n",
       "      <td>0.204707</td>\n",
       "      <td>0.010759</td>\n",
       "      <td>0.370823</td>\n",
       "      <td>0.046618</td>\n",
       "      <td>0.321395</td>\n",
       "      <td>0.015143</td>\n",
       "      <td>0.130586</td>\n",
       "    </tr>\n",
       "  </tbody>\n",
       "</table>\n",
       "</div>"
      ],
      "text/plain": [
       "   cplx_imp_i  smsn_imp_i  spot_imp_i  vzio_imp_i  tw_imp_i  fb_imp_i  \\\n",
       "0    0.008422    0.015025    0.212211    0.013772  0.348791  0.023189   \n",
       "1    0.016431    0.036270    0.225445    0.007491  0.369489  0.046153   \n",
       "2    0.006553    0.015509    0.178028    0.011686  0.344432  0.037104   \n",
       "3    0.010626    0.017485    0.119478    0.013206  0.353738  0.095669   \n",
       "4    0.016560    0.025442    0.204707    0.010759  0.370823  0.046618   \n",
       "\n",
       "   yt_imp_i  tv_exp_i  tune_in_i  \n",
       "0  0.119566  0.005713   0.050437  \n",
       "1  0.184742  0.010343   0.097058  \n",
       "2  0.141722  0.008395   0.132308  \n",
       "3  0.236077  0.022665   0.223991  \n",
       "4  0.321395  0.015143   0.130586  "
      ]
     },
     "execution_count": 3,
     "metadata": {},
     "output_type": "execute_result"
    }
   ],
   "source": [
    "data = pd.read_excel(r'x:\\CAO\\Team\\Data Science\\performance_link\\Bet_Awards\\data\\bet_awards_modfile_FINAL_08.23.2021.xlsx')\n",
    "# dma_code column assigned to region and can be dropped\n",
    "data = data.drop(columns=['dma_code'])\n",
    "# checking for Nan values in columns\n",
    "print(data.isna().sum().sum())\n",
    "data.head()"
   ]
  },
  {
   "cell_type": "code",
   "execution_count": 6,
   "id": "972a5cb3-2349-4029-b054-dce058963bfe",
   "metadata": {},
   "outputs": [],
   "source": [
    "# Scaling data\n",
    "\n",
    "scaller = StandardScaler()\n",
    "data_scaled = pd.DataFrame(scaller.fit_transform(data.iloc[:,:-1]), columns= data.columns[:-1])\n",
    "data_scaled['tune_in_i'] = data['tune_in_i']"
   ]
  },
  {
   "cell_type": "code",
   "execution_count": 8,
   "id": "1fb0c378-5a18-4103-8978-9afe48d99348",
   "metadata": {},
   "outputs": [
    {
     "name": "stderr",
     "output_type": "stream",
     "text": [
      "Auto-assigning NUTS sampler...\n",
      "Initializing NUTS using jitter+adapt_diag...\n",
      "Multiprocess sampling (4 chains in 2 jobs)\n",
      "NUTS: [sd, tv_exp_i, yt_imp_i, fb_imp_i, tw_imp_i, vzio_imp_i, spot_imp_i, smsn_imp_i, cplx_imp_i, Intercept]\n"
     ]
    },
    {
     "data": {
      "text/html": [
       "\n",
       "    <div>\n",
       "        <style>\n",
       "            /* Turns off some styling */\n",
       "            progress {\n",
       "                /* gets rid of default border in Firefox and Opera. */\n",
       "                border: none;\n",
       "                /* Needs to be in here for Safari polyfill so background images work as expected. */\n",
       "                background-size: auto;\n",
       "            }\n",
       "            .progress-bar-interrupted, .progress-bar-interrupted::-webkit-progress-bar {\n",
       "                background: #F44336;\n",
       "            }\n",
       "        </style>\n",
       "      <progress value='8000' class='' max='8000' style='width:300px; height:20px; vertical-align: middle;'></progress>\n",
       "      100.00% [8000/8000 00:39<00:00 Sampling 4 chains, 0 divergences]\n",
       "    </div>\n",
       "    "
      ],
      "text/plain": [
       "<IPython.core.display.HTML object>"
      ]
     },
     "metadata": {},
     "output_type": "display_data"
    },
    {
     "name": "stderr",
     "output_type": "stream",
     "text": [
      "Sampling 4 chains for 1_000 tune and 1_000 draw iterations (4_000 + 4_000 draws total) took 94 seconds.\n",
      "WARNING (aesara.tensor.blas): Using NumPy C-API based implementation for BLAS functions.\n"
     ]
    }
   ],
   "source": [
    "# Building Model with GLM modeule\n",
    "\n",
    "# Formula for Bayesian Linear Regression\n",
    "formula = 'tune_in_i ~ ' + ' + '.join(['%s' % variable for variable in data.columns[:-1]])\n",
    "\n",
    "# Context for the model\n",
    "with pm.Model() as model_normal_glm_scaled:\n",
    "    \n",
    "    # The prior for the model parameters will be a normal distribution\n",
    "    family = pm.glm.families.Normal()\n",
    "    \n",
    "    # Creating the model requires a formula and data (and optionally a family)\n",
    "    tune_in_i  = pm.GLM.from_formula(formula, data = data_scaled, family = family)\n",
    "    \n",
    "    # Perform Markov Chain Monte Carlo sampling\n",
    "    trace_normal_glm_scaled = pm.sample(chains = 4, target_accept = 0.9)\n",
    "    "
   ]
  },
  {
   "cell_type": "code",
   "execution_count": 33,
   "id": "d8bd0b24-60ca-40b0-9550-80b6aa76d165",
   "metadata": {},
   "outputs": [
    {
     "data": {
      "text/plain": [
       "'tune_in_i =  0.092 * Intercept + 0.009 * cplx_imp_i + -0.002 * smsn_imp_i + -0.008 * spot_imp_i + 0.002 * vzio_imp_i + 0.003 * tw_imp_i + 0.002 * fb_imp_i + -0.005 * yt_imp_i + 0.043 * tv_exp_i'"
      ]
     },
     "execution_count": 33,
     "metadata": {},
     "output_type": "execute_result"
    }
   ],
   "source": [
    "model_formula = 'tune_in_i = '\n",
    "for variable in trace_normal_glm_scaled.varnames[:-2]:\n",
    "    model_formula += ' %0.3f * %s +' % (np.mean(trace_normal_glm_scaled[variable]), variable)\n",
    "' '.join(model_formula.split(' ')[:-1])"
   ]
  },
  {
   "cell_type": "code",
   "execution_count": 38,
   "id": "cba170d6-5acd-4e34-bc59-9728a9040840",
   "metadata": {},
   "outputs": [
    {
     "data": {
      "text/html": [
       "<div>\n",
       "<style scoped>\n",
       "    .dataframe tbody tr th:only-of-type {\n",
       "        vertical-align: middle;\n",
       "    }\n",
       "\n",
       "    .dataframe tbody tr th {\n",
       "        vertical-align: top;\n",
       "    }\n",
       "\n",
       "    .dataframe thead th {\n",
       "        text-align: right;\n",
       "    }\n",
       "</style>\n",
       "<table border=\"1\" class=\"dataframe\">\n",
       "  <thead>\n",
       "    <tr style=\"text-align: right;\">\n",
       "      <th></th>\n",
       "      <th>mean</th>\n",
       "      <th>sd</th>\n",
       "      <th>mean2</th>\n",
       "      <th>sd2</th>\n",
       "      <th>mean2*sd2</th>\n",
       "      <th>contribution_pct</th>\n",
       "    </tr>\n",
       "  </thead>\n",
       "  <tbody>\n",
       "    <tr>\n",
       "      <th>cplx_imp_i</th>\n",
       "      <td>0.009</td>\n",
       "      <td>0.003</td>\n",
       "      <td>0.000081</td>\n",
       "      <td>0.000009</td>\n",
       "      <td>7.290000e-10</td>\n",
       "      <td>3.97926</td>\n",
       "    </tr>\n",
       "    <tr>\n",
       "      <th>smsn_imp_i</th>\n",
       "      <td>-0.002</td>\n",
       "      <td>0.002</td>\n",
       "      <td>0.000004</td>\n",
       "      <td>0.000004</td>\n",
       "      <td>1.600000e-11</td>\n",
       "      <td>0.08734</td>\n",
       "    </tr>\n",
       "    <tr>\n",
       "      <th>spot_imp_i</th>\n",
       "      <td>-0.008</td>\n",
       "      <td>0.003</td>\n",
       "      <td>0.000064</td>\n",
       "      <td>0.000009</td>\n",
       "      <td>5.760000e-10</td>\n",
       "      <td>3.14410</td>\n",
       "    </tr>\n",
       "    <tr>\n",
       "      <th>vzio_imp_i</th>\n",
       "      <td>0.002</td>\n",
       "      <td>0.002</td>\n",
       "      <td>0.000004</td>\n",
       "      <td>0.000004</td>\n",
       "      <td>1.600000e-11</td>\n",
       "      <td>0.08734</td>\n",
       "    </tr>\n",
       "    <tr>\n",
       "      <th>tw_imp_i</th>\n",
       "      <td>0.003</td>\n",
       "      <td>0.003</td>\n",
       "      <td>0.000009</td>\n",
       "      <td>0.000009</td>\n",
       "      <td>8.100000e-11</td>\n",
       "      <td>0.44214</td>\n",
       "    </tr>\n",
       "    <tr>\n",
       "      <th>fb_imp_i</th>\n",
       "      <td>0.002</td>\n",
       "      <td>0.003</td>\n",
       "      <td>0.000004</td>\n",
       "      <td>0.000009</td>\n",
       "      <td>3.600000e-11</td>\n",
       "      <td>0.19651</td>\n",
       "    </tr>\n",
       "    <tr>\n",
       "      <th>yt_imp_i</th>\n",
       "      <td>-0.005</td>\n",
       "      <td>0.003</td>\n",
       "      <td>0.000025</td>\n",
       "      <td>0.000009</td>\n",
       "      <td>2.250000e-10</td>\n",
       "      <td>1.22817</td>\n",
       "    </tr>\n",
       "    <tr>\n",
       "      <th>tv_exp_i</th>\n",
       "      <td>0.043</td>\n",
       "      <td>0.003</td>\n",
       "      <td>0.001849</td>\n",
       "      <td>0.000009</td>\n",
       "      <td>1.664100e-08</td>\n",
       "      <td>90.83515</td>\n",
       "    </tr>\n",
       "  </tbody>\n",
       "</table>\n",
       "</div>"
      ],
      "text/plain": [
       "             mean     sd     mean2       sd2     mean2*sd2  contribution_pct\n",
       "cplx_imp_i  0.009  0.003  0.000081  0.000009  7.290000e-10           3.97926\n",
       "smsn_imp_i -0.002  0.002  0.000004  0.000004  1.600000e-11           0.08734\n",
       "spot_imp_i -0.008  0.003  0.000064  0.000009  5.760000e-10           3.14410\n",
       "vzio_imp_i  0.002  0.002  0.000004  0.000004  1.600000e-11           0.08734\n",
       "tw_imp_i    0.003  0.003  0.000009  0.000009  8.100000e-11           0.44214\n",
       "fb_imp_i    0.002  0.003  0.000004  0.000009  3.600000e-11           0.19651\n",
       "yt_imp_i   -0.005  0.003  0.000025  0.000009  2.250000e-10           1.22817\n",
       "tv_exp_i    0.043  0.003  0.001849  0.000009  1.664100e-08          90.83515"
      ]
     },
     "execution_count": 38,
     "metadata": {},
     "output_type": "execute_result"
    },
    {
     "data": {
      "image/png": "[encoded data removed]",
      "text/plain": [
       "<Figure size 576x288 with 1 Axes>"
      ]
     },
     "metadata": {},
     "output_type": "display_data"
    }
   ],
   "source": [
    "calculate_contribution(trace_normal_glm_scaled, summary=True)"
   ]
  },
  {
   "cell_type": "code",
   "execution_count": 69,
   "id": "0a40734a-5a87-4702-adec-153cf25d3239",
   "metadata": {},
   "outputs": [
    {
     "data": {
      "text/plain": [
       "{'cplx_imp_i': 0.009,\n",
       " 'smsn_imp_i': -0.002,\n",
       " 'spot_imp_i': -0.008,\n",
       " 'vzio_imp_i': 0.002,\n",
       " 'tw_imp_i': 0.003,\n",
       " 'fb_imp_i': 0.002,\n",
       " 'yt_imp_i': -0.005,\n",
       " 'tv_exp_i': 0.043}"
      ]
     },
     "execution_count": 69,
     "metadata": {},
     "output_type": "execute_result"
    }
   ],
   "source": [
    "coef_dict = az.summary(trace_normal_glm_scaled, var_names = trace_normal_glm_scaled.varnames[1:-2])['mean'].to_dict()\n",
    "coef_dict"
   ]
  },
  {
   "cell_type": "code",
   "execution_count": 65,
   "id": "e7b9e180-5460-4e00-a444-2eb6c229e68e",
   "metadata": {},
   "outputs": [],
   "source": [
    "contributions = {}\n",
    "\n",
    "for coef, value in coef_dict.items():\n",
    "    contr = data_scaled[coef].sum()*value / data_scaled['tune_in_i'].sum()\n",
    "    contributions[coef] = contr"
   ]
  },
  {
   "cell_type": "code",
   "execution_count": 79,
   "id": "f1b8e8c3-2b3a-4b59-b19d-3dd1c7c0b3e4",
   "metadata": {},
   "outputs": [],
   "source": [
    "results_contr = pd.DataFrame([contributions], index= ['tune_in_i']).T"
   ]
  },
  {
   "cell_type": "code",
   "execution_count": 80,
   "id": "9cb80220-bd28-42ff-bd86-5defad8d4209",
   "metadata": {},
   "outputs": [],
   "source": [
    "results_contr.to_csv(r'x:\\CAO\\Team\\Data Science\\performance_link\\Bet_Awards\\Contribution_to_total_tune_in_i.csv', index = False)"
   ]
  }
 ],
 "metadata": {
  "kernelspec": {
   "display_name": "Python 3",
   "language": "python",
   "name": "python3"
  },
  "language_info": {
   "codemirror_mode": {
    "name": "ipython",
    "version": 3
   },
   "file_extension": ".py",
   "mimetype": "text/x-python",
   "name": "python",
   "nbconvert_exporter": "python",
   "pygments_lexer": "ipython3",
   "version": "3.7.3"
  }
 },
 "nbformat": 4,
 "nbformat_minor": 5
}
